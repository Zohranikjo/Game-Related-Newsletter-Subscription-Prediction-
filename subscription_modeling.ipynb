{
 "cells": [
  {
   "cell_type": "markdown",
   "id": "ccbd0aca-b109-4ebb-a35a-f6eddb529439",
   "metadata": {},
   "source": [
    "Introduction "
   ]
  },
  {
   "cell_type": "code",
   "execution_count": null,
   "id": "8c7274b5-00fc-459a-82c1-3708f843103a",
   "metadata": {},
   "outputs": [],
   "source": [
    "Data Description "
   ]
  },
  {
   "cell_type": "code",
   "execution_count": null,
   "id": "7f26da65-1ea8-4595-bec5-1d761c4b9365",
   "metadata": {},
   "outputs": [],
   "source": [
    "Methods and Results "
   ]
  },
  {
   "cell_type": "code",
   "execution_count": null,
   "id": "40746442-2a66-44a8-a1ab-68213f698cbc",
   "metadata": {},
   "outputs": [],
   "source": [
    "Discussion "
   ]
  }
 ],
 "metadata": {
  "kernelspec": {
   "display_name": "R",
   "language": "R",
   "name": "ir"
  },
  "language_info": {
   "codemirror_mode": "r",
   "file_extension": ".r",
   "mimetype": "text/x-r-source",
   "name": "R",
   "pygments_lexer": "r",
   "version": "4.3.3"
  }
 },
 "nbformat": 4,
 "nbformat_minor": 5
}
