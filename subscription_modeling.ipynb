{
 "cells": [
  {
   "cell_type": "markdown",
   "id": "d8c26737-7725-4a80-8afe-8c6fbe4719db",
   "metadata": {},
   "source": [
    "# Predicting Game Newsletter Subscription Using Player Characteristics and Behavior "
   ]
  },
  {
   "attachments": {},
   "cell_type": "markdown",
   "id": "ccbd0aca-b109-4ebb-a35a-f6eddb529439",
   "metadata": {},
   "source": [
    "## Introduction: \n",
    "In many industries, it is crucial to understand their target audience and their behaviours as a means to alter and create a product or service that is beneficial to many. More specifically, game publishers and developers must have a thorough understanding of player behaviour. Not only does it enable businesses to market and advertise their product and/or services effectively, but it also can enhance player engagement and even customize experiences. Outside of games, a newsletter that requires a subscription is one of the many ways game publishers and developers can interact with users beyond the game itself. This project will explore which in-game behaviours and players' attributes predict a player's decision to sign up for a newsletter. "
   ]
  },
  {
   "cell_type": "markdown",
   "id": "ad2000a1-6c73-4e22-82ac-76f72b85f398",
   "metadata": {},
   "source": [
    "\n",
    "## Question\n",
    "\n",
    "To investigate and explore which in-game behaviours and player attributes can predict a player's decision to subscribe to a newsletter, this project will aim to answer the question: \n",
    "Can a player's total playtime, session frequency and age predict whether they will subscribe to a game-related newsletter? \n"
   ]
  },
  {
   "attachments": {},
   "cell_type": "markdown",
   "id": "2caa7827-b0cb-4142-a07d-c415a4b0c92f",
   "metadata": {},
   "source": [
    "## Data Description \n",
    "\n",
    "\n",
    "To answer the predictive question above, this project utilizes, extracts and modifies data from two different datasets: players.csv and sessions.csv \n",
    "\n",
    "### players.csv\n",
    "players.csv mainly contains information degarding player demographics and subscription status containing the following variables \n",
    "\n",
    "### sessions.csv\n",
    "sessions.csv primarily logs and keeps record of game play sessions. In other words contains time-stamped session activity \n",
    "\n",
    "\n",
    "\n",
    "\n",
    "### Variables from players.csv\n",
    "\n",
    "| Variable       | Type     | Description                                 |\n",
    "|----------------|----------|---------------------------------------------|\n",
    "| hashedEmail    | chr      | Anonymized player ID                        |\n",
    "| subscribe      | lgl/fct  | TRUE/FALSE or 1/0 for subscription status   |\n",
    "| age            | dbl      | Player age                                  |\n",
    "| played_hours   | dbl      | Deprecated metric, not used in model        |\n",
    "| experience     | chr      | Player experience level (e.g., Pro, Amateur)|\n",
    "| gender         | chr      | Player gender                               |\n",
    "\n",
    "\n",
    "### Variables from sessions.csv\n",
    "\n",
    "\n",
    "| Variable        | Type  | Description                                           |\n",
    "|-----------------|-------|-------------------------------------------------------|\n",
    "| hashedEmail     | chr   | Anonymized player ID used for joining datasets        |\n",
    "| start_time      | chr   | Session start timestamp                               |\n",
    "| end_time        | chr   | Session end timestamp                                 |\n",
    "| session_length  | dbl   | Computed length of session in minutes                 |\n",
    "\n",
    "\n",
    "### Computed Variables \n",
    "\n",
    "| Variable        | Type    | Description                                    |\n",
    "|-----------------|---------|------------------------------------------------|\n",
    "| total_playtime  | dbl     | Sum of all session lengths for a player        |\n",
    "| session_count   | int     | Number of valid sessions per player            |\n",
    "| age_group       | factor  | Categorized age ranges (0–9, 10–19, etc.)      |\n",
    "\n",
    "\n",
    "\n",
    "### Variables Used in Analysis \n",
    "\n",
    "| Variable        | Type    | Description                                      |\n",
    "|-----------------|---------|--------------------------------------------------|\n",
    "| subscribe       | factor  | Target variable: whether player subscribed       |\n",
    "| age             | dbl     | Player age                                       |\n",
    "| total_playtime  | dbl     | Total playtime in minutes                        |\n",
    "| session_count   | int     | Number of gameplay sessions                      |\n",
    "| age_group       | factor  | Age bucket used for grouping and plots           |\n",
    "\n",
    "\n",
    "\n"
   ]
  },
  {
   "cell_type": "markdown",
   "id": "826d63f0-e764-4884-bdf8-221e60a8d0c3",
   "metadata": {},
   "source": [
    "# Methods and Results \n",
    "\n",
    "As the very first step, it was required to load various libraries in the notebook for a plethora of reasons. Firsly, a majority of the functions used on a daily basis in R like ggplot(), read_csv(), filter(), etc, are not actually built into base R. They are known to come from external packages like the ones listed below, so loading it using the function library(package_name) before using any of its functions. I have done so below of some common packages that will be required for hte analysis to follow.  "
   ]
  },
  {
   "cell_type": "code",
   "execution_count": 1,
   "id": "3fe1c5b0-2b75-4a4d-b145-00680e7bc19f",
   "metadata": {},
   "outputs": [
    {
     "name": "stderr",
     "output_type": "stream",
     "text": [
      "── \u001b[1mAttaching core tidyverse packages\u001b[22m ──────────────────────── tidyverse 2.0.0 ──\n",
      "\u001b[32m✔\u001b[39m \u001b[34mdplyr    \u001b[39m 1.1.4     \u001b[32m✔\u001b[39m \u001b[34mreadr    \u001b[39m 2.1.5\n",
      "\u001b[32m✔\u001b[39m \u001b[34mforcats  \u001b[39m 1.0.0     \u001b[32m✔\u001b[39m \u001b[34mstringr  \u001b[39m 1.5.1\n",
      "\u001b[32m✔\u001b[39m \u001b[34mggplot2  \u001b[39m 3.5.1     \u001b[32m✔\u001b[39m \u001b[34mtibble   \u001b[39m 3.2.1\n",
      "\u001b[32m✔\u001b[39m \u001b[34mlubridate\u001b[39m 1.9.3     \u001b[32m✔\u001b[39m \u001b[34mtidyr    \u001b[39m 1.3.1\n",
      "\u001b[32m✔\u001b[39m \u001b[34mpurrr    \u001b[39m 1.0.2     \n",
      "── \u001b[1mConflicts\u001b[22m ────────────────────────────────────────── tidyverse_conflicts() ──\n",
      "\u001b[31m✖\u001b[39m \u001b[34mdplyr\u001b[39m::\u001b[32mfilter()\u001b[39m masks \u001b[34mstats\u001b[39m::filter()\n",
      "\u001b[31m✖\u001b[39m \u001b[34mdplyr\u001b[39m::\u001b[32mlag()\u001b[39m    masks \u001b[34mstats\u001b[39m::lag()\n",
      "\u001b[36mℹ\u001b[39m Use the conflicted package (\u001b[3m\u001b[34m<http://conflicted.r-lib.org/>\u001b[39m\u001b[23m) to force all conflicts to become errors\n",
      "── \u001b[1mAttaching packages\u001b[22m ────────────────────────────────────── tidymodels 1.1.1 ──\n",
      "\n",
      "\u001b[32m✔\u001b[39m \u001b[34mbroom       \u001b[39m 1.0.6     \u001b[32m✔\u001b[39m \u001b[34mrsample     \u001b[39m 1.2.1\n",
      "\u001b[32m✔\u001b[39m \u001b[34mdials       \u001b[39m 1.3.0     \u001b[32m✔\u001b[39m \u001b[34mtune        \u001b[39m 1.1.2\n",
      "\u001b[32m✔\u001b[39m \u001b[34minfer       \u001b[39m 1.0.7     \u001b[32m✔\u001b[39m \u001b[34mworkflows   \u001b[39m 1.1.4\n",
      "\u001b[32m✔\u001b[39m \u001b[34mmodeldata   \u001b[39m 1.4.0     \u001b[32m✔\u001b[39m \u001b[34mworkflowsets\u001b[39m 1.0.1\n",
      "\u001b[32m✔\u001b[39m \u001b[34mparsnip     \u001b[39m 1.2.1     \u001b[32m✔\u001b[39m \u001b[34myardstick   \u001b[39m 1.3.1\n",
      "\u001b[32m✔\u001b[39m \u001b[34mrecipes     \u001b[39m 1.1.0     \n",
      "\n",
      "── \u001b[1mConflicts\u001b[22m ───────────────────────────────────────── tidymodels_conflicts() ──\n",
      "\u001b[31m✖\u001b[39m \u001b[34mscales\u001b[39m::\u001b[32mdiscard()\u001b[39m masks \u001b[34mpurrr\u001b[39m::discard()\n",
      "\u001b[31m✖\u001b[39m \u001b[34mdplyr\u001b[39m::\u001b[32mfilter()\u001b[39m   masks \u001b[34mstats\u001b[39m::filter()\n",
      "\u001b[31m✖\u001b[39m \u001b[34mrecipes\u001b[39m::\u001b[32mfixed()\u001b[39m  masks \u001b[34mstringr\u001b[39m::fixed()\n",
      "\u001b[31m✖\u001b[39m \u001b[34mdplyr\u001b[39m::\u001b[32mlag()\u001b[39m      masks \u001b[34mstats\u001b[39m::lag()\n",
      "\u001b[31m✖\u001b[39m \u001b[34myardstick\u001b[39m::\u001b[32mspec()\u001b[39m masks \u001b[34mreadr\u001b[39m::spec()\n",
      "\u001b[31m✖\u001b[39m \u001b[34mrecipes\u001b[39m::\u001b[32mstep()\u001b[39m   masks \u001b[34mstats\u001b[39m::step()\n",
      "\u001b[34m•\u001b[39m Use suppressPackageStartupMessages() to eliminate package startup messages\n",
      "\n",
      "\n",
      "Attaching package: ‘janitor’\n",
      "\n",
      "\n",
      "The following objects are masked from ‘package:stats’:\n",
      "\n",
      "    chisq.test, fisher.test\n",
      "\n",
      "\n"
     ]
    }
   ],
   "source": [
    "library(tidyverse)\n",
    "library(lubridate)\n",
    "library(tidymodels)\n",
    "library(janitor)\n",
    "library(tibble)\n",
    "library(knitr)\n",
    "\n",
    "options(repr.matrix.max.rows = 6)"
   ]
  },
  {
   "cell_type": "markdown",
   "id": "d808be0e-f386-4fc9-a678-f6156af8cdfe",
   "metadata": {},
   "source": [
    "Before any analysis or data wranglign takes place, I first located the raw data files stored in a GitHub repository. To ensure analysis is portable adn reproducavle, the datasets were uplladed to GitHub and provided access to their raw file URLs, making it possible for anyone with the notebook to rerun the analysis from scratch without requiring local files. "
   ]
  },
  {
   "cell_type": "code",
   "execution_count": 2,
   "id": "cd6ec20f-01e1-48e3-bb86-66f99f3c7517",
   "metadata": {},
   "outputs": [
    {
     "name": "stderr",
     "output_type": "stream",
     "text": [
      "\u001b[1mRows: \u001b[22m\u001b[34m196\u001b[39m \u001b[1mColumns: \u001b[22m\u001b[34m7\u001b[39m\n",
      "\u001b[36m──\u001b[39m \u001b[1mColumn specification\u001b[22m \u001b[36m────────────────────────────────────────────────────────\u001b[39m\n",
      "\u001b[1mDelimiter:\u001b[22m \",\"\n",
      "\u001b[31mchr\u001b[39m (4): experience, hashedEmail, name, gender\n",
      "\u001b[32mdbl\u001b[39m (2): played_hours, Age\n",
      "\u001b[33mlgl\u001b[39m (1): subscribe\n",
      "\n",
      "\u001b[36mℹ\u001b[39m Use `spec()` to retrieve the full column specification for this data.\n",
      "\u001b[36mℹ\u001b[39m Specify the column types or set `show_col_types = FALSE` to quiet this message.\n"
     ]
    },
    {
     "data": {
      "text/html": [
       "<table class=\"dataframe\">\n",
       "<caption>A spec_tbl_df: 196 × 7</caption>\n",
       "<thead>\n",
       "\t<tr><th scope=col>experience</th><th scope=col>subscribe</th><th scope=col>hashedEmail</th><th scope=col>played_hours</th><th scope=col>name</th><th scope=col>gender</th><th scope=col>Age</th></tr>\n",
       "\t<tr><th scope=col>&lt;chr&gt;</th><th scope=col>&lt;lgl&gt;</th><th scope=col>&lt;chr&gt;</th><th scope=col>&lt;dbl&gt;</th><th scope=col>&lt;chr&gt;</th><th scope=col>&lt;chr&gt;</th><th scope=col>&lt;dbl&gt;</th></tr>\n",
       "</thead>\n",
       "<tbody>\n",
       "\t<tr><td>Pro    </td><td> TRUE</td><td>f6daba428a5e19a3d47574858c13550499be23603422e6a0ee9728f8b53e192d</td><td>30.3</td><td>Morgan   </td><td>Male</td><td> 9</td></tr>\n",
       "\t<tr><td>Veteran</td><td> TRUE</td><td>f3c813577c458ba0dfef80996f8f32c93b6e8af1fa939732842f2312358a88e9</td><td> 3.8</td><td>Christian</td><td>Male</td><td>17</td></tr>\n",
       "\t<tr><td>Veteran</td><td>FALSE</td><td>b674dd7ee0d24096d1c019615ce4d12b20fcbff12d79d3c5a9d2118eb7ccbb28</td><td> 0.0</td><td>Blake    </td><td>Male</td><td>17</td></tr>\n",
       "\t<tr><td>⋮</td><td>⋮</td><td>⋮</td><td>⋮</td><td>⋮</td><td>⋮</td><td>⋮</td></tr>\n",
       "\t<tr><td>Amateur</td><td>FALSE</td><td>d572f391d452b76ea2d7e5e53a3d38bfd7499c7399db299bd4fedb06a46ad5bb</td><td>0.0</td><td>Dylan </td><td>Prefer not to say</td><td>17</td></tr>\n",
       "\t<tr><td>Amateur</td><td>FALSE</td><td>f19e136ddde68f365afc860c725ccff54307dedd13968e896a9f890c40aea436</td><td>2.3</td><td>Harlow</td><td>Male             </td><td>17</td></tr>\n",
       "\t<tr><td>Pro    </td><td> TRUE</td><td>d9473710057f7d42f36570f0be83817a4eea614029ff90cf50d8889cdd729d11</td><td>0.2</td><td>Ahmed </td><td>Other            </td><td>NA</td></tr>\n",
       "</tbody>\n",
       "</table>\n"
      ],
      "text/latex": [
       "A spec\\_tbl\\_df: 196 × 7\n",
       "\\begin{tabular}{lllllll}\n",
       " experience & subscribe & hashedEmail & played\\_hours & name & gender & Age\\\\\n",
       " <chr> & <lgl> & <chr> & <dbl> & <chr> & <chr> & <dbl>\\\\\n",
       "\\hline\n",
       "\t Pro     &  TRUE & f6daba428a5e19a3d47574858c13550499be23603422e6a0ee9728f8b53e192d & 30.3 & Morgan    & Male &  9\\\\\n",
       "\t Veteran &  TRUE & f3c813577c458ba0dfef80996f8f32c93b6e8af1fa939732842f2312358a88e9 &  3.8 & Christian & Male & 17\\\\\n",
       "\t Veteran & FALSE & b674dd7ee0d24096d1c019615ce4d12b20fcbff12d79d3c5a9d2118eb7ccbb28 &  0.0 & Blake     & Male & 17\\\\\n",
       "\t ⋮ & ⋮ & ⋮ & ⋮ & ⋮ & ⋮ & ⋮\\\\\n",
       "\t Amateur & FALSE & d572f391d452b76ea2d7e5e53a3d38bfd7499c7399db299bd4fedb06a46ad5bb & 0.0 & Dylan  & Prefer not to say & 17\\\\\n",
       "\t Amateur & FALSE & f19e136ddde68f365afc860c725ccff54307dedd13968e896a9f890c40aea436 & 2.3 & Harlow & Male              & 17\\\\\n",
       "\t Pro     &  TRUE & d9473710057f7d42f36570f0be83817a4eea614029ff90cf50d8889cdd729d11 & 0.2 & Ahmed  & Other             & NA\\\\\n",
       "\\end{tabular}\n"
      ],
      "text/markdown": [
       "\n",
       "A spec_tbl_df: 196 × 7\n",
       "\n",
       "| experience &lt;chr&gt; | subscribe &lt;lgl&gt; | hashedEmail &lt;chr&gt; | played_hours &lt;dbl&gt; | name &lt;chr&gt; | gender &lt;chr&gt; | Age &lt;dbl&gt; |\n",
       "|---|---|---|---|---|---|---|\n",
       "| Pro     |  TRUE | f6daba428a5e19a3d47574858c13550499be23603422e6a0ee9728f8b53e192d | 30.3 | Morgan    | Male |  9 |\n",
       "| Veteran |  TRUE | f3c813577c458ba0dfef80996f8f32c93b6e8af1fa939732842f2312358a88e9 |  3.8 | Christian | Male | 17 |\n",
       "| Veteran | FALSE | b674dd7ee0d24096d1c019615ce4d12b20fcbff12d79d3c5a9d2118eb7ccbb28 |  0.0 | Blake     | Male | 17 |\n",
       "| ⋮ | ⋮ | ⋮ | ⋮ | ⋮ | ⋮ | ⋮ |\n",
       "| Amateur | FALSE | d572f391d452b76ea2d7e5e53a3d38bfd7499c7399db299bd4fedb06a46ad5bb | 0.0 | Dylan  | Prefer not to say | 17 |\n",
       "| Amateur | FALSE | f19e136ddde68f365afc860c725ccff54307dedd13968e896a9f890c40aea436 | 2.3 | Harlow | Male              | 17 |\n",
       "| Pro     |  TRUE | d9473710057f7d42f36570f0be83817a4eea614029ff90cf50d8889cdd729d11 | 0.2 | Ahmed  | Other             | NA |\n",
       "\n"
      ],
      "text/plain": [
       "    experience subscribe\n",
       "1   Pro         TRUE    \n",
       "2   Veteran     TRUE    \n",
       "3   Veteran    FALSE    \n",
       "⋮   ⋮          ⋮        \n",
       "194 Amateur    FALSE    \n",
       "195 Amateur    FALSE    \n",
       "196 Pro         TRUE    \n",
       "    hashedEmail                                                     \n",
       "1   f6daba428a5e19a3d47574858c13550499be23603422e6a0ee9728f8b53e192d\n",
       "2   f3c813577c458ba0dfef80996f8f32c93b6e8af1fa939732842f2312358a88e9\n",
       "3   b674dd7ee0d24096d1c019615ce4d12b20fcbff12d79d3c5a9d2118eb7ccbb28\n",
       "⋮   ⋮                                                               \n",
       "194 d572f391d452b76ea2d7e5e53a3d38bfd7499c7399db299bd4fedb06a46ad5bb\n",
       "195 f19e136ddde68f365afc860c725ccff54307dedd13968e896a9f890c40aea436\n",
       "196 d9473710057f7d42f36570f0be83817a4eea614029ff90cf50d8889cdd729d11\n",
       "    played_hours name      gender            Age\n",
       "1   30.3         Morgan    Male               9 \n",
       "2    3.8         Christian Male              17 \n",
       "3    0.0         Blake     Male              17 \n",
       "⋮   ⋮            ⋮         ⋮                 ⋮  \n",
       "194 0.0          Dylan     Prefer not to say 17 \n",
       "195 2.3          Harlow    Male              17 \n",
       "196 0.2          Ahmed     Other             NA "
      ]
     },
     "metadata": {},
     "output_type": "display_data"
    },
    {
     "name": "stderr",
     "output_type": "stream",
     "text": [
      "\u001b[1mRows: \u001b[22m\u001b[34m1535\u001b[39m \u001b[1mColumns: \u001b[22m\u001b[34m5\u001b[39m\n",
      "\u001b[36m──\u001b[39m \u001b[1mColumn specification\u001b[22m \u001b[36m────────────────────────────────────────────────────────\u001b[39m\n",
      "\u001b[1mDelimiter:\u001b[22m \",\"\n",
      "\u001b[31mchr\u001b[39m (3): hashedEmail, start_time, end_time\n",
      "\u001b[32mdbl\u001b[39m (2): original_start_time, original_end_time\n",
      "\n",
      "\u001b[36mℹ\u001b[39m Use `spec()` to retrieve the full column specification for this data.\n",
      "\u001b[36mℹ\u001b[39m Specify the column types or set `show_col_types = FALSE` to quiet this message.\n"
     ]
    },
    {
     "data": {
      "text/html": [
       "<table class=\"dataframe\">\n",
       "<caption>A spec_tbl_df: 1535 × 5</caption>\n",
       "<thead>\n",
       "\t<tr><th scope=col>hashedEmail</th><th scope=col>start_time</th><th scope=col>end_time</th><th scope=col>original_start_time</th><th scope=col>original_end_time</th></tr>\n",
       "\t<tr><th scope=col>&lt;chr&gt;</th><th scope=col>&lt;chr&gt;</th><th scope=col>&lt;chr&gt;</th><th scope=col>&lt;dbl&gt;</th><th scope=col>&lt;dbl&gt;</th></tr>\n",
       "</thead>\n",
       "<tbody>\n",
       "\t<tr><td>bfce39c89d6549f2bb94d8064d3ce69dc3d7e72b38f431d8aa0c4bf95ccee6bf</td><td>30/06/2024 18:12</td><td>30/06/2024 18:24</td><td>1.71977e+12</td><td>1.71977e+12</td></tr>\n",
       "\t<tr><td>36d9cbb4c6bc0c1a6911436d2da0d09ec625e43e6552f575d4acc9cf487c4686</td><td>17/06/2024 23:33</td><td>17/06/2024 23:46</td><td>1.71867e+12</td><td>1.71867e+12</td></tr>\n",
       "\t<tr><td>f8f5477f5a2e53616ae37421b1c660b971192bd8ff77e3398304c7ae42581fdc</td><td>25/07/2024 17:34</td><td>25/07/2024 17:57</td><td>1.72193e+12</td><td>1.72193e+12</td></tr>\n",
       "\t<tr><td>⋮</td><td>⋮</td><td>⋮</td><td>⋮</td><td>⋮</td></tr>\n",
       "\t<tr><td>fd6563a4e0f6f4273580e5fedbd8dda64990447aea5a33cbb5e894a3867ca44d</td><td>28/07/2024 15:36</td><td>28/07/2024 15:57</td><td>1.72218e+12</td><td>1.72218e+12</td></tr>\n",
       "\t<tr><td>fd6563a4e0f6f4273580e5fedbd8dda64990447aea5a33cbb5e894a3867ca44d</td><td>25/07/2024 06:15</td><td>25/07/2024 06:22</td><td>1.72189e+12</td><td>1.72189e+12</td></tr>\n",
       "\t<tr><td>36d9cbb4c6bc0c1a6911436d2da0d09ec625e43e6552f575d4acc9cf487c4686</td><td>20/05/2024 02:26</td><td>20/05/2024 02:45</td><td>1.71617e+12</td><td>1.71617e+12</td></tr>\n",
       "</tbody>\n",
       "</table>\n"
      ],
      "text/latex": [
       "A spec\\_tbl\\_df: 1535 × 5\n",
       "\\begin{tabular}{lllll}\n",
       " hashedEmail & start\\_time & end\\_time & original\\_start\\_time & original\\_end\\_time\\\\\n",
       " <chr> & <chr> & <chr> & <dbl> & <dbl>\\\\\n",
       "\\hline\n",
       "\t bfce39c89d6549f2bb94d8064d3ce69dc3d7e72b38f431d8aa0c4bf95ccee6bf & 30/06/2024 18:12 & 30/06/2024 18:24 & 1.71977e+12 & 1.71977e+12\\\\\n",
       "\t 36d9cbb4c6bc0c1a6911436d2da0d09ec625e43e6552f575d4acc9cf487c4686 & 17/06/2024 23:33 & 17/06/2024 23:46 & 1.71867e+12 & 1.71867e+12\\\\\n",
       "\t f8f5477f5a2e53616ae37421b1c660b971192bd8ff77e3398304c7ae42581fdc & 25/07/2024 17:34 & 25/07/2024 17:57 & 1.72193e+12 & 1.72193e+12\\\\\n",
       "\t ⋮ & ⋮ & ⋮ & ⋮ & ⋮\\\\\n",
       "\t fd6563a4e0f6f4273580e5fedbd8dda64990447aea5a33cbb5e894a3867ca44d & 28/07/2024 15:36 & 28/07/2024 15:57 & 1.72218e+12 & 1.72218e+12\\\\\n",
       "\t fd6563a4e0f6f4273580e5fedbd8dda64990447aea5a33cbb5e894a3867ca44d & 25/07/2024 06:15 & 25/07/2024 06:22 & 1.72189e+12 & 1.72189e+12\\\\\n",
       "\t 36d9cbb4c6bc0c1a6911436d2da0d09ec625e43e6552f575d4acc9cf487c4686 & 20/05/2024 02:26 & 20/05/2024 02:45 & 1.71617e+12 & 1.71617e+12\\\\\n",
       "\\end{tabular}\n"
      ],
      "text/markdown": [
       "\n",
       "A spec_tbl_df: 1535 × 5\n",
       "\n",
       "| hashedEmail &lt;chr&gt; | start_time &lt;chr&gt; | end_time &lt;chr&gt; | original_start_time &lt;dbl&gt; | original_end_time &lt;dbl&gt; |\n",
       "|---|---|---|---|---|\n",
       "| bfce39c89d6549f2bb94d8064d3ce69dc3d7e72b38f431d8aa0c4bf95ccee6bf | 30/06/2024 18:12 | 30/06/2024 18:24 | 1.71977e+12 | 1.71977e+12 |\n",
       "| 36d9cbb4c6bc0c1a6911436d2da0d09ec625e43e6552f575d4acc9cf487c4686 | 17/06/2024 23:33 | 17/06/2024 23:46 | 1.71867e+12 | 1.71867e+12 |\n",
       "| f8f5477f5a2e53616ae37421b1c660b971192bd8ff77e3398304c7ae42581fdc | 25/07/2024 17:34 | 25/07/2024 17:57 | 1.72193e+12 | 1.72193e+12 |\n",
       "| ⋮ | ⋮ | ⋮ | ⋮ | ⋮ |\n",
       "| fd6563a4e0f6f4273580e5fedbd8dda64990447aea5a33cbb5e894a3867ca44d | 28/07/2024 15:36 | 28/07/2024 15:57 | 1.72218e+12 | 1.72218e+12 |\n",
       "| fd6563a4e0f6f4273580e5fedbd8dda64990447aea5a33cbb5e894a3867ca44d | 25/07/2024 06:15 | 25/07/2024 06:22 | 1.72189e+12 | 1.72189e+12 |\n",
       "| 36d9cbb4c6bc0c1a6911436d2da0d09ec625e43e6552f575d4acc9cf487c4686 | 20/05/2024 02:26 | 20/05/2024 02:45 | 1.71617e+12 | 1.71617e+12 |\n",
       "\n"
      ],
      "text/plain": [
       "     hashedEmail                                                     \n",
       "1    bfce39c89d6549f2bb94d8064d3ce69dc3d7e72b38f431d8aa0c4bf95ccee6bf\n",
       "2    36d9cbb4c6bc0c1a6911436d2da0d09ec625e43e6552f575d4acc9cf487c4686\n",
       "3    f8f5477f5a2e53616ae37421b1c660b971192bd8ff77e3398304c7ae42581fdc\n",
       "⋮    ⋮                                                               \n",
       "1533 fd6563a4e0f6f4273580e5fedbd8dda64990447aea5a33cbb5e894a3867ca44d\n",
       "1534 fd6563a4e0f6f4273580e5fedbd8dda64990447aea5a33cbb5e894a3867ca44d\n",
       "1535 36d9cbb4c6bc0c1a6911436d2da0d09ec625e43e6552f575d4acc9cf487c4686\n",
       "     start_time       end_time         original_start_time original_end_time\n",
       "1    30/06/2024 18:12 30/06/2024 18:24 1.71977e+12         1.71977e+12      \n",
       "2    17/06/2024 23:33 17/06/2024 23:46 1.71867e+12         1.71867e+12      \n",
       "3    25/07/2024 17:34 25/07/2024 17:57 1.72193e+12         1.72193e+12      \n",
       "⋮    ⋮                ⋮                ⋮                   ⋮                \n",
       "1533 28/07/2024 15:36 28/07/2024 15:57 1.72218e+12         1.72218e+12      \n",
       "1534 25/07/2024 06:15 25/07/2024 06:22 1.72189e+12         1.72189e+12      \n",
       "1535 20/05/2024 02:26 20/05/2024 02:45 1.71617e+12         1.71617e+12      "
      ]
     },
     "metadata": {},
     "output_type": "display_data"
    }
   ],
   "source": [
    "players <- read_csv(\"https://raw.githubusercontent.com/Zohranikjo/Files-/refs/heads/main/players.csv\")\n",
    "players \n",
    "sessions <- read_csv(\"https://raw.githubusercontent.com/Zohranikjo/Files-/refs/heads/main/sessions.csv\") \n",
    "sessions"
   ]
  },
  {
   "cell_type": "markdown",
   "id": "aa5ab5a0-1ad4-4fac-b944-27e688d1f6d8",
   "metadata": {},
   "source": [
    "After imported, I wrangled the sessions.csv dataset. Since the timestamps were originally stored as strings, we used ymd_hms() to transform them into appropriate datetime objects. Each sessions duration was first determined in seconds and then changed to minutes, which is a more comprehensible unit for the length of gameplay."
   ]
  },
  {
   "cell_type": "code",
   "execution_count": null,
   "id": "2a63c750-2b83-4f60-a969-35dd09e25fb2",
   "metadata": {},
   "outputs": [],
   "source": [
    "# 1. Calculate session length safely\n",
    "sessions <- sessions |> \n",
    "  mutate(\n",
    "    start_time = ymd_hms(start_time),\n",
    "    end_time = ymd_hms(end_time),\n",
    "    session_seconds = as.numeric(difftime(end_time, start_time, units = \"secs\")),\n",
    "    session_length = session_seconds / 60  # minutes\n",
    "  ) |>\n",
    "  filter(session_length > 0) |>  # ❗ remove negative/zero durations\n",
    "  select(-session_seconds) |> \n",
    "  relocate(session_length, .after = end_time)\n",
    " \n",
    "sessions "
   ]
  },
  {
   "cell_type": "markdown",
   "id": "ce177256-d25c-4a8f-b5a2-e02b33d5cc31",
   "metadata": {},
   "source": [
    "This information was then aggregated to calculate each individuals total playtime and number of sessions"
   ]
  },
  {
   "cell_type": "code",
   "execution_count": null,
   "id": "ec860da7-8765-4866-940d-86c547d4c632",
   "metadata": {},
   "outputs": [],
   "source": [
    "# 2. Summarize playtime + sessions per player\n",
    "session_summary <- sessions |> \n",
    "  group_by(hashedEmail) |> \n",
    "  summarize(\n",
    "    total_playtime = sum(session_length, na.rm = TRUE),\n",
    "    session_count = n()\n",
    "  )\n",
    "session_summary "
   ]
  },
  {
   "cell_type": "markdown",
   "id": "fe55b85b-887d-4fd6-b05f-9ef69e6f76ce",
   "metadata": {},
   "source": [
    "Such session data was then joined with players.csv to give a combined dataset"
   ]
  },
  {
   "cell_type": "code",
   "execution_count": null,
   "id": "fba42e7f-ba34-4753-af90-430f6b7c4c51",
   "metadata": {},
   "outputs": [],
   "source": [
    "# 3. Join with players dataset\n",
    "player_data <- players |>\n",
    "  left_join(session_summary, by = \"hashedEmail\")\n",
    "player_data"
   ]
  },
  {
   "cell_type": "markdown",
   "id": "eff80d62-8b9d-4325-bb33-218ad3b8a0a2",
   "metadata": {},
   "source": [
    "Following the merge, the relevent columns were cleaned and selected, to remove players with no playtime and dealing with any missing values. "
   ]
  },
  {
   "cell_type": "code",
   "execution_count": null,
   "id": "81759816-793f-4473-ab96-1527b90d6687",
   "metadata": {},
   "outputs": [],
   "source": [
    "# 4. Prepare modeling data\n",
    "model_data <- player_data |> \n",
    "  select(subscribe, Age, total_playtime, session_count) |> \n",
    "  drop_na() |>   \n",
    "  filter(total_playtime > 0)\n",
    "model_data "
   ]
  },
  {
   "cell_type": "code",
   "execution_count": null,
   "id": "bbbd7aa6-df61-4063-b6bd-edb02f5861c8",
   "metadata": {},
   "outputs": [],
   "source": []
  },
  {
   "cell_type": "code",
   "execution_count": null,
   "id": "4797ae5e-f90f-4664-82e0-59f27c60cf9a",
   "metadata": {},
   "outputs": [],
   "source": [
    "# 5. Create age groups\n",
    "model_data <- model_data |> \n",
    "  mutate(age_group = cut(\n",
    "    Age,\n",
    "    breaks = c(0, 9, 19, 29, 39, 49, 59, Inf),\n",
    "    labels = c(\"0–9\", \"10–19\", \"20–29\", \"30–39\", \"40–49\", \"50–59\", \"60+\"),\n",
    "    right = TRUE, include.lowest = TRUE\n",
    "  ))\n",
    "model_data"
   ]
  },
  {
   "cell_type": "code",
   "execution_count": null,
   "id": "d93b7c46-b9bd-4005-a3f2-4cf09ababcec",
   "metadata": {},
   "outputs": [],
   "source": [
    "playtime_summary <- model_data |>\n",
    "  mutate(age_group = factor(age_group, levels = c(\"0–9\", \"10–19\", \"20–29\", \"30–39\", \"40–49\", \"50–59\", \"60+\"))) |> \n",
    "  group_by(age_group, subscribe, .drop = FALSE) |>\n",
    "  summarize(\n",
    "    mean_playtime = mean(total_playtime, na.rm = TRUE),\n",
    "    .groups = \"drop\"\n",
    "  )\n",
    "playtime_summary\n",
    "\n",
    "playtime_summary <- playtime_summary |>\n",
    "  replace_na(list(mean_playtime = 0))\n",
    "\n",
    "playtime_summary"
   ]
  },
  {
   "cell_type": "code",
   "execution_count": null,
   "id": "1c5fe851-9e4a-4f57-bd7f-734b4516c9cc",
   "metadata": {},
   "outputs": [],
   "source": [
    "# 1. Subscription count bar plot (grouped by age group)\n",
    "plot_subscription_count_by_age_group <- ggplot(model_data, aes(x = age_group, fill = subscribe)) +\n",
    "  geom_bar(position = \"dodge\") +\n",
    "  labs(\n",
    "    title = \"Subscription Count by Age Group\",\n",
    "    x = \"Age Group\",\n",
    "    y = \"Number of Players\",\n",
    "    fill = \"Subscribed\"\n",
    "  ) +\n",
    "  theme_minimal()\n",
    "\n",
    "plot_subscription_count_by_age_group\n",
    "\n",
    "# 2. Average total playtime (minutes) by age group and subscription status\n",
    "plot_grouped_bar_playtime <- ggplot(playtime_summary, aes(x = age_group, y = mean_playtime, fill = subscribe)) +\n",
    "  geom_bar(stat = \"identity\", position = \"dodge\") +\n",
    "  scale_y_continuous(labels = scales::comma_format(accuracy = 1)) +\n",
    "  labs(\n",
    "    title = \"Average Total Playtime (in Minutes) by Age Group and Subscription Status\",\n",
    "    x = \"Age Group\",\n",
    "    y = \"Average Total Playtime (minutes)\",\n",
    "    fill = \"Subscribed\"\n",
    "  ) +\n",
    "  theme_minimal()\n",
    "\n",
    "\n",
    "plot_grouped_bar_playtime\n",
    "\n",
    "# 3. Age distribution density plot (uses Age column + labeled object)\n",
    "plot_age_distribution <- ggplot(model_data, aes(x = Age, color = factor(subscribe))) +\n",
    "  geom_density() +\n",
    "  labs(\n",
    "    title = \"Age Distribution by Subscription\",\n",
    "    x = \"Age\",\n",
    "    color = \"Subscribed\"\n",
    "  ) +\n",
    "  theme_minimal()\n",
    "\n",
    "plot_age_distribution\n"
   ]
  },
  {
   "cell_type": "code",
   "execution_count": null,
   "id": "0a6cb950-c817-431b-b1b1-c9a3488830ba",
   "metadata": {},
   "outputs": [],
   "source": [
    "model_data <- model_data |> \n",
    "  mutate(subscribe = case_when(\n",
    "    subscribe == TRUE ~ \"1\",\n",
    "    subscribe == FALSE ~ \"0\",\n",
    "    TRUE ~ NA_character_\n",
    "  )) |> \n",
    "  filter(!is.na(subscribe))\n",
    "\n",
    "model_data"
   ]
  },
  {
   "cell_type": "code",
   "execution_count": null,
   "id": "276d0d98-ff03-4c92-be0b-2f377dd4d537",
   "metadata": {},
   "outputs": [],
   "source": [
    "\n",
    "set.seed(123)\n",
    "split <- initial_split(model_data, strata = subscribe)\n",
    "train <- training(split)\n",
    "test <- testing(split)\n",
    "\n"
   ]
  },
  {
   "cell_type": "code",
   "execution_count": null,
   "id": "df27497b-d2cf-4c2c-8d19-68a1d5f6c445",
   "metadata": {},
   "outputs": [],
   "source": [
    "knn_recipe <- recipe(subscribe ~ Age + total_playtime + session_count, data = train) |> \n",
    "  step_center(all_predictors()) |> step_scale(all_predictors()) \n",
    "knn_recipe\n",
    "\n"
   ]
  },
  {
   "cell_type": "code",
   "execution_count": null,
   "id": "d2303b7b-05c7-4462-9736-494c1b044181",
   "metadata": {},
   "outputs": [],
   "source": [
    "knn_spec <- nearest_neighbor(\n",
    "  mode = \"classification\",\n",
    "  neighbors = tune(),         # we'll tune 'k'\n",
    "  weight_func = \"rectangular\" # default: equal weighting\n",
    ") |> \n",
    "  set_engine(\"kknn\")\n",
    "knn_spec\n"
   ]
  },
  {
   "cell_type": "code",
   "execution_count": null,
   "id": "4630602d-3f68-4d49-9c29-6dba860b9a3e",
   "metadata": {},
   "outputs": [],
   "source": [
    "knn_wf <- workflow() |> \n",
    "  add_recipe(knn_recipe) |> \n",
    "  add_model(knn_spec)\n",
    "knn_wf \n",
    "\n"
   ]
  },
  {
   "cell_type": "code",
   "execution_count": null,
   "id": "7d7bdd3d-1ed9-464a-b81d-2cd92bd6553d",
   "metadata": {},
   "outputs": [],
   "source": [
    "set.seed(999)\n",
    "folds <- vfold_cv(train, v = 5, strata = subscribe)\n",
    "\n",
    "k_vals <- tibble(neighbors = seq(1, 25, by = 2))  # try k = 1, 3, ..., 25\n",
    "\n",
    "knn_results <- tune_grid(\n",
    "  knn_wf,\n",
    "  resamples = folds,\n",
    "  grid = k_vals,\n",
    "  metrics = metric_set(accuracy, roc_auc)\n",
    ")\n",
    "\n"
   ]
  },
  {
   "cell_type": "code",
   "execution_count": null,
   "id": "a0e8fc30-c79b-430f-a424-4a99708792a0",
   "metadata": {},
   "outputs": [],
   "source": [
    "knn_plot <- knn_results |> \n",
    "  collect_metrics() |> \n",
    "  filter(.metric == \"accuracy\") |> \n",
    "  ggplot(aes(x = neighbors, y = mean)) +\n",
    "  geom_line() + geom_point() +\n",
    "  labs(title = \"KNN Accuracy vs Number of Neighbors\", x = \"k (neighbors)\", y = \"Accuracy\")\n",
    "\n",
    "knn_plot\n"
   ]
  },
  {
   "cell_type": "code",
   "execution_count": null,
   "id": "7550ddbc-5cb6-4d61-ad4b-58b77ac07816",
   "metadata": {},
   "outputs": [],
   "source": [
    "best_k <- knn_results |> \n",
    "  select_best(\"accuracy\")\n",
    "\n",
    "final_knn_spec <- nearest_neighbor(\n",
    "  mode = \"classification\",\n",
    "  neighbors = best_k$neighbors,\n",
    "  weight_func = \"rectangular\"\n",
    ") |> \n",
    "  set_engine(\"kknn\")\n",
    "\n",
    "final_wf <- workflow() |> \n",
    "  add_recipe(knn_recipe) |> \n",
    "  add_model(final_knn_spec)\n",
    "\n",
    "final_fit <- final_wf |> last_fit(split)\n",
    "\n",
    "final_fit |> collect_metrics()\n",
    "\n"
   ]
  },
  {
   "cell_type": "code",
   "execution_count": null,
   "id": "e71b6215-a5b8-4c41-bd11-3fc36b6a0772",
   "metadata": {},
   "outputs": [],
   "source": [
    "final_fit |> \n",
    "  collect_predictions() |> \n",
    "  ggplot(aes(x = .pred_class, fill = subscribe)) +\n",
    "  geom_bar(position = \"dodge\") +\n",
    "  labs(\n",
    "    title = \"Predicted Class Breakdown by Actual Subscription (KNN)\",\n",
    "    x = \"Predicted Class\", \n",
    "    y = \"Count\", \n",
    "    fill = \"Actual Subscribe\"\n",
    "  )\n"
   ]
  },
  {
   "cell_type": "code",
   "execution_count": null,
   "id": "cd502528-085b-4c6c-a34f-16d104cf894d",
   "metadata": {},
   "outputs": [],
   "source": [
    "# Confusion matrix\n",
    "final_fit |> collect_predictions() |> \n",
    "  conf_mat(truth = subscribe, estimate = .pred_class)\n",
    "\n",
    "# Probability distribution\n",
    "final_fit |> collect_predictions() |> \n",
    "  ggplot(aes(x = .pred_1, fill = factor(subscribe))) +\n",
    "  geom_histogram(position = \"identity\", bins = 30, alpha = 0.6) +\n",
    "  labs(title = \"Predicted Subscription Probabilities (KNN)\", x = \"Predicted Probability\", fill = \"Actual Subscribe\")\n",
    "\n"
   ]
  },
  {
   "cell_type": "code",
   "execution_count": null,
   "id": "af1830aa-8d91-4daf-a99d-2095082d3b6c",
   "metadata": {},
   "outputs": [],
   "source": []
  },
  {
   "cell_type": "code",
   "execution_count": null,
   "id": "c980b29e-cc15-4889-ad2d-71c6da7abbb0",
   "metadata": {},
   "outputs": [],
   "source": []
  },
  {
   "cell_type": "code",
   "execution_count": null,
   "id": "80332956-c7d9-49b1-8f09-6d5d9a4d66b2",
   "metadata": {},
   "outputs": [],
   "source": []
  },
  {
   "cell_type": "code",
   "execution_count": null,
   "id": "48edc605-3ca2-406b-9953-9161b32f4f23",
   "metadata": {},
   "outputs": [],
   "source": []
  },
  {
   "cell_type": "code",
   "execution_count": null,
   "id": "7a6526be-6a66-4d33-85b8-25bd9e70cf8c",
   "metadata": {},
   "outputs": [],
   "source": []
  }
 ],
 "metadata": {
  "kernelspec": {
   "display_name": "R",
   "language": "R",
   "name": "ir"
  },
  "language_info": {
   "codemirror_mode": "r",
   "file_extension": ".r",
   "mimetype": "text/x-r-source",
   "name": "R",
   "pygments_lexer": "r",
   "version": "4.3.3"
  }
 },
 "nbformat": 4,
 "nbformat_minor": 5
}
